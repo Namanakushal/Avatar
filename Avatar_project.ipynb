{
  "nbformat": 4,
  "nbformat_minor": 0,
  "metadata": {
    "colab": {
      "private_outputs": true,
      "provenance": [],
      "authorship_tag": "ABX9TyO2mKp3+Q8dy+AGlN8MSXDt",
      "include_colab_link": true
    },
    "kernelspec": {
      "name": "python3",
      "display_name": "Python 3"
    },
    "language_info": {
      "name": "python"
    }
  },
  "cells": [
    {
      "cell_type": "markdown",
      "metadata": {
        "id": "view-in-github",
        "colab_type": "text"
      },
      "source": [
        "<a href=\"https://colab.research.google.com/github/Namanakushal/Avatar/blob/main/Avatar_project.ipynb\" target=\"_parent\"><img src=\"https://colab.research.google.com/assets/colab-badge.svg\" alt=\"Open In Colab\"/></a>"
      ]
    },
    {
      "cell_type": "code",
      "source": [
        "try:\n",
        "    from google.colab import drive\n",
        "    drive.mount('/content/drive', force_remount=True)\n",
        "    print(\"Google Drive mounted successfully!\")\n",
        "    %tensorflow_version 2.x\n",
        "except Exception as e:\n",
        "    print(\"Error while mounting Google Drive: {}\".format(str(e)))"
      ],
      "metadata": {
        "id": "xdbJEGy-64v-"
      },
      "execution_count": null,
      "outputs": []
    },
    {
      "cell_type": "code",
      "source": [
        "import os, time\n",
        "\n",
        "import numpy as np\n",
        "from PIL import Image\n",
        "from tqdm import tqdm\n",
        "import matplotlib.pyplot as plt\n",
        "from IPython import display\n",
        "\n",
        "import tensorflow as tf\n",
        "from tensorflow.keras.layers import Input, Reshape, Dropout, Dense\n",
        "from tensorflow.keras.layers import Flatten, BatchNormalization\n",
        "from tensorflow.keras.layers import Activation, ZeroPadding2D\n",
        "from tensorflow.keras.layers import LeakyReLU\n",
        "from tensorflow.keras.layers import UpSampling2D, Conv2D, Conv2DTranspose\n",
        "from tensorflow.keras.models import Sequential, Model, load_model\n",
        "from tensorflow.keras.optimizers import Adam\n"
      ],
      "metadata": {
        "id": "-9pAiXXa7CTT"
      },
      "execution_count": null,
      "outputs": []
    },
    {
      "cell_type": "code",
      "source": [
        "def hms_string(sec_elapsed):\n",
        "    h = int(sec_elapsed / (60 * 60))\n",
        "    m = int((sec_elapsed % (60 * 60)) / 60)\n",
        "    s = sec_elapsed % 60\n",
        "    return \"{}:{:>02}:{:>05.2f}\".format(h, m, s)\n",
        "\n"
      ],
      "metadata": {
        "id": "u3NX2e6-7CWf"
      },
      "execution_count": null,
      "outputs": []
    },
    {
      "cell_type": "code",
      "source": [
        "\n",
        "IMAGE_CHANNELS = 3\n",
        "GENERATE_RESOLUTION_FACTOR = 3\n",
        "GENERATE_SQUARE = 32 * GENERATE_RESOLUTION_FACTOR\n",
        "\n",
        "# Preview image details\n",
        "PREVIEW_ROWS, PREVIEW_COLS = 4, 7\n",
        "PREVIEW_MARGIN = 16\n",
        "\n",
        "# Source vector size to generate images\n",
        "SEED_SIZE = 100\n",
        "\n",
        "# Model configuration\n",
        "DATA_PATH = '/content/drive/My Drive/projects/cartoons/'\n",
        "FOLDER_NAME = 'cartoonset30k'\n",
        "\n",
        "EPOCHS = 50\n",
        "BATCH_SIZE = 64\n",
        "BUFFER_SIZE = 61000\n",
        "\n",
        "print(f\"Image details: {GENERATE_SQUARE}px\")\n"
      ],
      "metadata": {
        "id": "qtfUhZmL7CY6"
      },
      "execution_count": null,
      "outputs": []
    },
    {
      "cell_type": "code",
      "source": [
        "training_binary_path = os.path.join(DATA_PATH,\n",
        "    f'training_data_{FOLDER_NAME}_{GENERATE_SQUARE}_{GENERATE_SQUARE}.npy')\n",
        "print(\"Binary file name: \", training_binary_path)\n",
        "\n",
        "if not os.path.isfile(training_binary_path):\n",
        "  start = time.time()\n",
        "  print(\"File not found, loading training images...\")\n",
        "\n",
        "  training_data = []\n",
        "  faces_path = os.path.join(DATA_PATH, FOLDER_NAME)\n",
        "  faces_path_filenames = os.listdir(faces_path)\n",
        "  for filename in tqdm(faces_path_filenames):\n",
        "      path = os.path.join(faces_path,filename)\n",
        "      # Convert RGBA to RGB format\n",
        "      try:\n",
        "        image = Image.open(path).convert(\"RGB\").resize((GENERATE_SQUARE,\n",
        "              GENERATE_SQUARE),Image.ANTIALIAS)\n",
        "        training_data.append(np.asarray(image))\n",
        "      except Exception as e:\n",
        "        # print(f'[Error] image: {image}, exception: {e}')\n",
        "        pass\n",
        "  training_data = np.reshape(training_data,(-1,GENERATE_SQUARE,\n",
        "            GENERATE_SQUARE,IMAGE_CHANNELS))\n",
        "  training_data = training_data.astype(np.float32)\n",
        "  training_data = training_data / 127.5 - 1.\n",
        "\n",
        "\n",
        "  print(\"Saving training image binary file...\")\n",
        "  np.save(training_binary_path,training_data)\n",
        "  stop = time.time()-start\n",
        "  print (f'Image preprocess time: {hms_string(stop)}')\n",
        "else:\n",
        "  print(\"Loading previous training binary file...\")\n",
        "  load_data_start_time = time.time()\n",
        "  training_data = np.load(training_binary_path)\n",
        "  load_data_tat = time.time() - load_data_start_time\n",
        "  print(\"Data load time: \", hms_string(load_data_tat))\n"
      ],
      "metadata": {
        "id": "M5XPWbVM7CbL"
      },
      "execution_count": null,
      "outputs": []
    },
    {
      "cell_type": "code",
      "source": [
        "import os"
      ],
      "metadata": {
        "id": "tzt8QpPk7Cde"
      },
      "execution_count": null,
      "outputs": []
    },
    {
      "cell_type": "code",
      "source": [],
      "metadata": {
        "id": "7C8oxf6Z7Cgq"
      },
      "execution_count": null,
      "outputs": []
    },
    {
      "cell_type": "code",
      "source": [],
      "metadata": {
        "id": "zARSzDvR7Ci8"
      },
      "execution_count": null,
      "outputs": []
    },
    {
      "cell_type": "code",
      "source": [],
      "metadata": {
        "id": "_EU4J2wY7Clu"
      },
      "execution_count": null,
      "outputs": []
    },
    {
      "cell_type": "code",
      "source": [],
      "metadata": {
        "id": "5bduLf-S7CoE"
      },
      "execution_count": null,
      "outputs": []
    },
    {
      "cell_type": "code",
      "source": [],
      "metadata": {
        "id": "YiJsmLHx7Crl"
      },
      "execution_count": null,
      "outputs": []
    },
    {
      "cell_type": "code",
      "source": [],
      "metadata": {
        "id": "t0mWfMRG7CtQ"
      },
      "execution_count": null,
      "outputs": []
    },
    {
      "cell_type": "code",
      "source": [],
      "metadata": {
        "id": "KhbPxvCf7Cyn"
      },
      "execution_count": null,
      "outputs": []
    },
    {
      "cell_type": "code",
      "source": [],
      "metadata": {
        "id": "B0mZsdXK7C3m"
      },
      "execution_count": null,
      "outputs": []
    },
    {
      "cell_type": "code",
      "source": [],
      "metadata": {
        "id": "V0nuX96y7C52"
      },
      "execution_count": null,
      "outputs": []
    },
    {
      "cell_type": "code",
      "source": [],
      "metadata": {
        "id": "rYe7rtaR7C7d"
      },
      "execution_count": null,
      "outputs": []
    },
    {
      "cell_type": "code",
      "source": [],
      "metadata": {
        "id": "QkHrp60T7C9O"
      },
      "execution_count": null,
      "outputs": []
    },
    {
      "cell_type": "code",
      "source": [],
      "metadata": {
        "id": "_DI133877DAq"
      },
      "execution_count": null,
      "outputs": []
    },
    {
      "cell_type": "code",
      "source": [],
      "metadata": {
        "id": "_QG-J67O7DFB"
      },
      "execution_count": null,
      "outputs": []
    },
    {
      "cell_type": "code",
      "source": [],
      "metadata": {
        "id": "h0Z2xCSw7DHb"
      },
      "execution_count": null,
      "outputs": []
    },
    {
      "cell_type": "code",
      "source": [],
      "metadata": {
        "id": "ZSJrqwW-7DI1"
      },
      "execution_count": null,
      "outputs": []
    },
    {
      "cell_type": "code",
      "source": [],
      "metadata": {
        "id": "hoZdfeET7DMT"
      },
      "execution_count": null,
      "outputs": []
    }
  ]
}